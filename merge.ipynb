{
 "cells": [
  {
   "cell_type": "markdown",
   "metadata": {},
   "source": [
    "Now, we merge the data from different semesters. Between 2017 and 2019, the test was applied in class."
   ]
  },
  {
   "cell_type": "code",
   "execution_count": 1,
   "metadata": {
    "tags": []
   },
   "outputs": [],
   "source": [
    "import pandas as pd\n",
    "import numpy as np"
   ]
  },
  {
   "cell_type": "code",
   "execution_count": 2,
   "metadata": {
    "tags": []
   },
   "outputs": [],
   "source": [
    "answer_key = pd.read_csv('answer_key.csv')"
   ]
  },
  {
   "cell_type": "code",
   "execution_count": 3,
   "metadata": {
    "tags": []
   },
   "outputs": [],
   "source": [
    "# import and merge data from all semesters\n",
    "data_2017_2019 = pd.read_csv('data_2017_2019.csv')\n",
    "data_2020_1 = pd.read_csv('data_2020_1.csv')\n",
    "data_2020_2 = pd.read_csv('data_2020_2.csv')\n",
    "data_2021_1 = pd.read_csv('data_2021_1.csv')\n",
    "data_2021_2 = pd.read_csv('data_2021_2.csv')\n",
    "\n",
    "data = pd.concat([data_2017_2019, data_2020_1, data_2020_2, data_2021_1, data_2021_2])"
   ]
  },
  {
   "cell_type": "code",
   "execution_count": 4,
   "metadata": {
    "tags": []
   },
   "outputs": [],
   "source": [
    "# separate name from last name, in order to atribute a gender by the name. The gender by name is collected from the census. \n",
    "# the column gender_probability returns the probability of a person with a certain name being of a certain gender.\n",
    "\n",
    "data[['name', 'last_name']] = data['student'].str.split( ' ', n=1, expand=True )\n",
    "\n",
    "names_csv = pd.read_csv(\"nomes.csv.gz\")\n",
    "gender_dict = pd.Series( names_csv[\"classification\"].values, index = names_csv[\"first_name\"] )\n",
    "gender_prob_dict = pd.Series( names_csv[\"ratio\"].values, index = names_csv[\"first_name\"] )\n",
    "names = data['name'].str.normalize(\"NFKD\").str.encode(\"ascii\", errors='ignore').str.decode(\"ascii\").str.upper()\n",
    "\n",
    "data.insert( 2, 'gender', gender_dict.reindex( names ).values )\n",
    "data.insert( 3, 'gender_probability', gender_prob_dict.reindex( names ).values )\n",
    "data.drop( columns = ['name','last_name'], inplace=True )"
   ]
  },
  {
   "cell_type": "code",
   "execution_count": 5,
   "metadata": {
    "tags": []
   },
   "outputs": [],
   "source": [
    "# creating an ID for students and deleting the column with the students' names\n",
    "data.insert(0, 'id', np.arange(len(data)) )\n",
    "data.drop(['student'], axis = 1, inplace=True)"
   ]
  },
  {
   "cell_type": "code",
   "execution_count": 6,
   "metadata": {
    "tags": []
   },
   "outputs": [],
   "source": [
    "# creating a variable with the student's shift based on the code of his class (day shift or night shift)\n",
    "shift_condition = [\n",
    "    (data['class'] == 'A1') | (data['class'] == 'A2') | (data['class'] == 'A3') | (data['class'] == 'B1') | (data['class'] == 'B2') | \n",
    "    (data['class'] == 'B3') | (data['class'] == 'M1') | (data['class'] == 'M2') | (data['class'] == 'M3') | (data['class'] == 'N1') | \n",
    "    (data['class'] == 'N2') | (data['class'] == 'N3'), \n",
    "    (data['class'] == 'E1') | (data['class'] == 'F1') | (data['class'] == 'F')\n",
    "    ]\n",
    "shift = ['D', 'N']\n",
    "data['shift'] = np.select(shift_condition, shift)"
   ]
  },
  {
   "cell_type": "code",
   "execution_count": 7,
   "metadata": {
    "tags": []
   },
   "outputs": [],
   "source": [
    "#creating a variable with the student's status at the end of the course (pass/drop/fail/fail with score < 40)\n",
    "grade_condition = [\n",
    "    (data['final_grade'] < 40.0),\n",
    "    (data['final_grade'] >= 40.0) & (data['final_grade'] < 60.0),\n",
    "    (data['final_grade'] >= 60.0),\n",
    "    data['final_grade'].isna()\n",
    "    ]\n",
    "status = ['FF', 'F', 'P', 'D']\n",
    "data['status'] = np.select(grade_condition, status)"
   ]
  },
  {
   "cell_type": "code",
   "execution_count": 8,
   "metadata": {
    "tags": []
   },
   "outputs": [],
   "source": [
    "# atribute score for the pre-test based on the answer key\n",
    "data = data.assign( T1_score = 0 )\n",
    "\n",
    "for _,row in answer_key.query('Q != 28 & Q!=29').iterrows():\n",
    "    data['T1_score'] += 1*(data[\"T1Q\"+str(row[\"Q\"])] == row[\"G\"])\n",
    "\n",
    "# A point is awarded for 28 & 29 only if both are correctly answered. \n",
    "data['T1_score'] += 1*\\\n",
    "    ( data[\"T1Q28\"] == answer_key.query('Q == 28').iloc[0]['G'] )*\\\n",
    "    ( data[\"T1Q29\"] == answer_key.query('Q == 29').iloc[0]['G'] ) \n",
    "\n",
    "# Assign NaN scores to people who answered none of the questions, i.e., didn't take the test\n",
    "data.loc[ data[ [ f\"T1Q{x}\" for x in range(1,31+1) ] ].isna().all('columns'), 'T1_score' ] = np.nan"
   ]
  },
  {
   "cell_type": "code",
   "execution_count": 9,
   "metadata": {
    "tags": []
   },
   "outputs": [],
   "source": [
    "# atribute score for the post-test based on the answer key\n",
    "data = data.assign( T2_score = 0 )\n",
    "\n",
    "for _,row in answer_key.query('Q != 28 & Q!=29').iterrows():\n",
    "    data['T2_score'] += 1*(data[\"T2Q\"+str(row[\"Q\"])] == row[\"G\"])\n",
    "\n",
    "data['T2_score'] += 1*\\\n",
    "    ( data[\"T2Q28\"] == answer_key.query('Q == 28').iloc[0]['G'] )*\\\n",
    "    ( data[\"T2Q29\"] == answer_key.query('Q == 29').iloc[0]['G'] )\n",
    "\n",
    "data.loc[ data[ [ f\"T2Q{x}\" for x in range(1,31+1) ] ].isna().all('columns'), 'T2_score' ] = np.nan"
   ]
  },
  {
   "cell_type": "code",
   "execution_count": 10,
   "metadata": {},
   "outputs": [],
   "source": [
    "# Calculating normalized gain. This is a popular way to quantify learning in Physics Education Research\n",
    "data = data.assign(normalized_gain = ((data['T2_score'] - data['T1_score'])/(30 - data['T1_score'])))"
   ]
  },
  {
   "cell_type": "code",
   "execution_count": 11,
   "metadata": {
    "tags": []
   },
   "outputs": [],
   "source": [
    "data.to_csv(\"data_2017_2021.csv\", index=False)"
   ]
  },
  {
   "cell_type": "code",
   "execution_count": null,
   "metadata": {},
   "outputs": [],
   "source": []
  }
 ],
 "metadata": {
  "kernelspec": {
   "display_name": "Python 3 (ipykernel)",
   "language": "python",
   "name": "python3"
  },
  "language_info": {
   "codemirror_mode": {
    "name": "ipython",
    "version": 3
   },
   "file_extension": ".py",
   "mimetype": "text/x-python",
   "name": "python",
   "nbconvert_exporter": "python",
   "pygments_lexer": "ipython3",
   "version": "3.11.3"
  }
 },
 "nbformat": 4,
 "nbformat_minor": 4
}
