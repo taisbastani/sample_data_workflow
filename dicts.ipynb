{
 "cells": [
  {
   "cell_type": "markdown",
   "id": "93e0aa00-dcae-4a11-9455-65f06ce51998",
   "metadata": {},
   "source": [
    "Creates a dictionary relating how question answers are saved from the testing platform to the corresponding answer letter."
   ]
  },
  {
   "cell_type": "code",
   "execution_count": 1,
   "id": "7005f703-227b-4a90-a26e-017cdb754435",
   "metadata": {
    "tags": []
   },
   "outputs": [],
   "source": [
    "import pandas as pd\n",
    "import numpy as np"
   ]
  },
  {
   "cell_type": "code",
   "execution_count": 2,
   "id": "9aba0223-fb6f-469c-9e13-902e0c20cbd4",
   "metadata": {
    "tags": []
   },
   "outputs": [],
   "source": [
    "answer_dict = {} # Initialize empty dictionary"
   ]
  },
  {
   "cell_type": "markdown",
   "id": "e191f834-26af-49d4-bc22-ccf1b42f7fd9",
   "metadata": {},
   "source": [
    "Simple dictionary for the set of questions where the exported answer is already correctly an answer letter"
   ]
  },
  {
   "cell_type": "code",
   "execution_count": 3,
   "id": "c38e48c9-6a78-485c-90d3-91f1de0b2377",
   "metadata": {
    "tags": []
   },
   "outputs": [],
   "source": [
    "aux = pd.Series({ chr(ord('a')+i): chr(ord('A')+i) for i in range(0,26) })\n",
    "answer_dict['Resposta 4'] = aux\n",
    "answer_dict['Resposta 5'] = aux\n",
    "answer_dict['Resposta 6'] = aux\n",
    "answer_dict['Resposta 20'] = aux\n",
    "answer_dict['Resposta 21'] = aux\n",
    "answer_dict['Resposta 22'] = aux\n",
    "answer_dict['Resposta 23'] = aux\n",
    "answer_dict['Resposta 24'] = aux\n",
    "answer_dict['Resposta 25'] = aux\n",
    "answer_dict['Resposta 26'] = aux\n",
    "answer_dict['Resposta 28'] = aux\n",
    "answer_dict['Resposta 29'] = aux\n",
    "answer_dict['Resposta 30'] = aux\n",
    "answer_dict['Resposta 31'] = aux"
   ]
  },
  {
   "cell_type": "code",
   "execution_count": 4,
   "id": "fd20faea-885b-4d90-b533-500f5d25a06c",
   "metadata": {
    "tags": []
   },
   "outputs": [],
   "source": [
    "aux = pd.Series( { r'\\(4F\\)': 'A',\n",
    "                    r'\\(5F/2\\)': 'B',\n",
    "                    r'\\(3F\\)': 'C',\n",
    "                    r'\\(2F\\)': 'D',\n",
    "                    r'\\(F\\)': 'E',\n",
    "                    r'\\(F/4\\)': 'F',\n",
    "                    '[4F]': 'A',\n",
    "                    '[5F/2]': 'B',\n",
    "                    '[3F]': 'C',\n",
    "                    '[2F]': 'D',\n",
    "                    '[F]': 'E',\n",
    "                    '[F/4]': 'F',\n",
    "                    'Nenhuma das alternativas.': 'G'\n",
    "                   } )\n",
    "\n",
    "answer_dict['Resposta 1'] = aux\n",
    "answer_dict['Resposta 2'] = aux"
   ]
  },
  {
   "cell_type": "code",
   "execution_count": 5,
   "id": "7b37a742-4459-4100-990c-02d11764ec01",
   "metadata": {
    "tags": []
   },
   "outputs": [],
   "source": [
    "aux = pd.Series( {'4_F/_3': 'A',\n",
    "                    '4_F/_9': 'B',\n",
    "                    '_F/_3': 'C',\n",
    "                    '5_F/_18': 'D',\n",
    "                    '2_F/_9': 'E',\n",
    "                    '_F/_9': 'F',\n",
    "                    '_F/_36': 'G',\n",
    "                    '4_F_': 'H',\n",
    "                    'Diferente das anteriores': 'I'\n",
    "                   } )\n",
    "answer_dict['Resposta 3'] = aux"
   ]
  },
  {
   "cell_type": "code",
   "execution_count": 6,
   "id": "edc1e51b-d9ad-4970-a322-f953acc74d7f",
   "metadata": {
    "tags": []
   },
   "outputs": [],
   "source": [
    "aux = pd.Series( {'Não será afetada pelas cargas na parede, já que o plástico é um isolante.': 'A',\n",
    "                    'Não será afetada pelas cargas na parede, já que a lâmina de plástico tem carga total nula.': 'B',\n",
    "                    'Se dobrará, afastando-se da parede devido à repulsão elétrica entre os elétrons do plástico e as cargas na parede.': 'C',\n",
    "                    'Se dobrará, afastando-se da parede devido à polarização das moléculas do plástico provocada pela parede carregada.': 'D',\n",
    "                    'Se dobrará, aproximando-se da parede devido à polarização das moléculas do plástico provocada pela parede carregada.': 'E',\n",
    "                    'Diferente das anteriores.': 'F'\n",
    "                   } )\n",
    "answer_dict['Resposta 7'] = aux"
   ]
  },
  {
   "cell_type": "code",
   "execution_count": 7,
   "id": "ab7deb7b-e5ee-4a1a-83f0-7e6ae0991997",
   "metadata": {
    "tags": []
   },
   "outputs": [],
   "source": [
    "aux = pd.Series( {'Para a direita.': 'A',\n",
    "                    'Para a esquerda.': 'B',\n",
    "                    'Não há corrente convencional já que o movimento dos íons positivos e dos íons negativos se cancelam.': 'C'\n",
    "                   } )\n",
    "answer_dict['Resposta 8'] = aux"
   ]
  },
  {
   "cell_type": "code",
   "execution_count": 8,
   "id": "5128b566-6b60-40ee-b039-18f241d0fc68",
   "metadata": {
    "tags": []
   },
   "outputs": [],
   "source": [
    "aux = pd.Series( {'_enAv__N a\\xa0__−__\\xa0__enAv__Cl_': 'A',\n",
    "                    '_enAv__N__ __a _+ _enAv__Cl_': 'B',\n",
    "                    '_enAv__N__\\xa0__a_': 'C',\n",
    "                    '_enAv__Cl_': 'D',\n",
    "                    'Zero': 'E'\n",
    "                   } )\n",
    "answer_dict['Resposta 9'] = aux"
   ]
  },
  {
   "cell_type": "code",
   "execution_count": 22,
   "id": "73761a3f-c887-4ad2-83c2-4935266ee0fb",
   "metadata": {
    "tags": []
   },
   "outputs": [],
   "source": [
    "aux = pd.Series( {'_A_1\\xa0=\\xa0_A_2\\xa0=\\xa0_A_3': 'A',\n",
    "                    '_A_1\\xa0=\\xa0_A_2\\xa0_>__\\xa0__A_3': 'B',\n",
    "                    '_A_1\\xa0=\\xa0_A_3\\xa0_>__\\xa0__A_2': 'C',\n",
    "                    '_A_2\\xa0=\\xa0_A_1\\xa0_>__\\xa0__A_3': 'D',\n",
    "                    '_A_2\\xa0=\\xa0_A_3\\xa0_>__\\xa0__A_1': 'E',\n",
    "                    '_A_3\\xa0_> A_1\\xa0=\\xa0_A_2': 'F',\n",
    "                    '_A_3\\xa0_> A_1\\xa0_>__\\xa0__A_2': 'G',\n",
    "                    '_A_3\\xa0_> A_2\\xa0_>__\\xa0__A_1': 'H',\n",
    "                    'Diferente das anteriores.': 'I',\n",
    "                    'Diferente\\xa0das\\xa0anteriores.':'I'\n",
    "                   } )\n",
    "answer_dict['Resposta 10'] = aux"
   ]
  },
  {
   "cell_type": "code",
   "execution_count": 23,
   "id": "538e52b7-3559-47e9-adac-5101652e3e65",
   "metadata": {
    "tags": []
   },
   "outputs": [],
   "source": [
    "aux = pd.Series( {'_A\\xa0_=\\xa0_B\\xa0_=\\xa0_C > D__\\xa0_=\\xa0_E_': 'A',\n",
    "                    '_A > B\\xa0_=\\xa0_C\\xa0_=\\xa0_D__\\xa0_=\\xa0_E_': 'B',\n",
    "                    '_A > B\\xa0_=\\xa0_C > D__\\xa0_=\\xa0_E_': 'C',\n",
    "                    '_A > B > C > D\\xa0___=\\xa0_E_': 'D',\n",
    "                    '_A\\xa0_=\\xa0_D\\xa0_=\\xa0_E > B\\xa0_=\\xa0_C_': 'E',\n",
    "                    '_A\\xa0_=\\xa0_D\\xa0_=\\xa0_E > B >__\\xa0__C_': 'F',\n",
    "                    '_A > D\\xa0_=\\xa0_E > B\\xa0_=\\xa0_C_': 'G',\n",
    "                    '_D\\xa0_=\\xa0_E > A > B\\xa0_=\\xa0_C_': 'H',\n",
    "                    'Diferente das anteriores.': 'I',\n",
    "                    'Diferente\\xa0das\\xa0anteriores.':'I'\n",
    "                   } )\n",
    "answer_dict['Resposta 11'] = aux"
   ]
  },
  {
   "cell_type": "code",
   "execution_count": 11,
   "id": "29c35acd-9977-41f4-9540-a85b46f6116e",
   "metadata": {
    "tags": []
   },
   "outputs": [],
   "source": [
    "aux = pd.Series( {'O campo deve ser nulo, pois o filamento é feito de metal.': 'A',\n",
    "                    'O campo deve ser nulo, pois há uma corrente circulando no circuito.': 'B',\n",
    "                    'O campo deve ser nulo, já que qualquer excesso de carga se encontra na superfície do filamento.': 'C',\n",
    "                    'O campo deve ser diferente de zero, já que a corrente que circula no circuito produz um campo elétrico.': 'D',\n",
    "                    'O campo deve ser diferente de zero, já que sem campo aplicado não circula corrente.': 'E',\n",
    "                    'O campo deve ser zero por razões não dadas previamente.': 'F',\n",
    "                    'O campo deve ser diferente de zero por razões não dadas previamente.': 'G'\n",
    "                   } )\n",
    "answer_dict['Resposta 12'] = aux"
   ]
  },
  {
   "cell_type": "code",
   "execution_count": 12,
   "id": "b520c165-3ad8-48c8-820a-270d68af4116",
   "metadata": {
    "tags": []
   },
   "outputs": [],
   "source": [
    "aux = pd.Series( {'_I\\xa0_= 0 sempre': 'A',\n",
    "                    '_I\\xa0_= constante\\xa0diferente de zero': 'B',\n",
    "                    '_I__\\xa0___aumenta,\\xa0depois fica\\xa0constante': 'C',\n",
    "                    '_I__\\xa0___aumenta\\xa0instantaneamente, e logo diminui\\xa0lentamente': 'D',\n",
    "                    'Diferente das anteriores': 'E'\n",
    "                   } )\n",
    "answer_dict['Resposta 13'] = aux"
   ]
  },
  {
   "cell_type": "code",
   "execution_count": 25,
   "id": "3c86e1b9-b59a-4b0f-b7dc-136d652efc36",
   "metadata": {
    "tags": []
   },
   "outputs": [],
   "source": [
    "aux = pd.Series( {'+_Ew_': 'A',\n",
    "                    '_−__Ew_': 'B',\n",
    "                    '+_Eh_': 'C',\n",
    "                    '_−__Eh_': 'D',\n",
    "                    '$$ +E \\\\sqrt{(h^2+w^2)}$$': 'E',\n",
    "                    '[ +E \\\\sqrt{(h^2+w^2)}]':'E',\n",
    "                    '$$ -E \\\\sqrt{(h^2+w^2)}$$': 'F',\n",
    "                    '[ -E \\\\sqrt{(h^2+w^2)}]':'F',\n",
    "                    'Zero': 'G'\n",
    "                   } )\n",
    "answer_dict['Resposta 14'] = aux\n",
    "answer_dict['Resposta 15'] = aux\n",
    "answer_dict['Resposta 16'] = aux"
   ]
  },
  {
   "cell_type": "code",
   "execution_count": 16,
   "id": "4587f4bc-a22c-4052-9f37-76821bc6e366",
   "metadata": {
    "tags": []
   },
   "outputs": [],
   "source": [
    "aux = pd.Series( {'zero volts': 'A',\n",
    "                    '3 volts': 'B',\n",
    "                    '6 volts': 'C',\n",
    "                    '12 volts': 'D',\n",
    "                    'Diferente das anteriores': 'E'\n",
    "                   } )\n",
    "answer_dict['Resposta 17'] = aux"
   ]
  },
  {
   "cell_type": "code",
   "execution_count": 17,
   "id": "ee234bf3-bbc7-4afa-91da-af57e8b3a434",
   "metadata": {
    "tags": []
   },
   "outputs": [],
   "source": [
    "aux = pd.Series( {'carga líquida nula.': 'A',\n",
    "                    'carga líquida positiva.': 'B',\n",
    "                    'carga líquida negativa.': 'C',\n",
    "                    'Não há informação suficiente para determinar se existe ou não uma carga líquida dentro do cilindro.': 'D'\n",
    "                   } )\n",
    "answer_dict['Resposta 18'] = aux"
   ]
  },
  {
   "cell_type": "code",
   "execution_count": 18,
   "id": "3c5aebdc-cdc4-4a8a-a364-a4ce8dd96c1e",
   "metadata": {
    "tags": []
   },
   "outputs": [],
   "source": [
    "aux = pd.Series( {'É zero já que os metais anulam as interações elétricas.': 'A',\n",
    "                    'É zero já que o campo elétrico é nulo dentro do metal.': 'B',\n",
    "                    'É diferente de zero se o objeto de metal não é esférico.': 'C',\n",
    "                    'É diferente de zero se há cargas na superfície do metal.': 'D',\n",
    "                    'É diferente de zero por razões não dadas previamente': 'E',\n",
    "                    'É zero por razões não dadas previamente.': 'F'\n",
    "                   } )\n",
    "answer_dict['Resposta 19'] = aux"
   ]
  },
  {
   "cell_type": "code",
   "execution_count": 19,
   "id": "323c1458-5a85-436a-8041-07eb1495285b",
   "metadata": {
    "tags": []
   },
   "outputs": [],
   "source": [
    "aux = pd.Series( {'_e__v__B_': 'A',\n",
    "                    '$$\\\\vec{v} \\\\times \\\\vec{B}$$': 'B',\n",
    "                    '[\\\\vec{v} \\\\times \\\\vec{B}]': 'B',\n",
    "                    '_vB_': 'C',\n",
    "                    '_B_': 'D',\n",
    "                    '$$e\\\\vec{v} \\\\times \\\\vec{B}$$': 'E',\n",
    "                    '[e\\\\vec{v} \\\\times \\\\vec{B}]': 'E',\n",
    "                    '_v__B__/e_': 'F',\n",
    "                    '_ev_': 'G',\n",
    "                    'Diferente\\xa0das anteriores': 'H'\n",
    "                   } )\n",
    "answer_dict['Resposta 27'] = aux"
   ]
  },
  {
   "cell_type": "code",
   "execution_count": 26,
   "id": "dbccc000-763e-4244-a370-31d7ace71be1",
   "metadata": {
    "tags": []
   },
   "outputs": [],
   "source": [
    "answer_dict = pd.Series( answer_dict )\n",
    "answer_dict.to_json( './answer_dict.json' )"
   ]
  },
  {
   "cell_type": "code",
   "execution_count": null,
   "id": "5d18ec8f-b54a-4ddc-8045-e2fcc6cebcea",
   "metadata": {},
   "outputs": [],
   "source": []
  }
 ],
 "metadata": {
  "kernelspec": {
   "display_name": "Python 3 (ipykernel)",
   "language": "python",
   "name": "python3"
  },
  "language_info": {
   "codemirror_mode": {
    "name": "ipython",
    "version": 3
   },
   "file_extension": ".py",
   "mimetype": "text/x-python",
   "name": "python",
   "nbconvert_exporter": "python",
   "pygments_lexer": "ipython3",
   "version": "3.11.3"
  }
 },
 "nbformat": 4,
 "nbformat_minor": 5
}
