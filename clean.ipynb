{
 "cells": [
  {
   "cell_type": "markdown",
   "metadata": {},
   "source": [
    "# Cleaning data"
   ]
  },
  {
   "cell_type": "markdown",
   "metadata": {},
   "source": [
    "Each semester, we apply a multiple choice electromagnetism test on the first and last week of the Basics Electromagnetism course. Since 2020, the test is done on a virtual plataform and a file with the students' answers is exported from the plataform. We call the test from the first week pre-test or T1 and the test from the last week post-test or T2"
   ]
  },
  {
   "cell_type": "code",
   "execution_count": 1,
   "metadata": {
    "tags": []
   },
   "outputs": [],
   "source": [
    "import pandas as pd\n",
    "import numpy as np\n",
    "import unicodedata"
   ]
  },
  {
   "cell_type": "code",
   "execution_count": 2,
   "metadata": {
    "tags": []
   },
   "outputs": [],
   "source": [
    "# importing dictionary\n",
    "answer_dict = pd.read_json('answer_dict.json', typ='series')"
   ]
  },
  {
   "cell_type": "code",
   "execution_count": 3,
   "metadata": {
    "tags": []
   },
   "outputs": [],
   "source": [
    "# pre-test and post-test data\n",
    "data_t1 = pd.read_csv('./2022_1/2022_1_T1.csv')\n",
    "data_t2 = pd.read_csv('./2022_1/2022_1_T2.csv')"
   ]
  },
  {
   "cell_type": "code",
   "execution_count": 4,
   "metadata": {
    "tags": []
   },
   "outputs": [],
   "source": [
    "# replacing the \"-\" text from non answered questions for NaN\n",
    "data_t1.replace('-',np.nan, inplace=True)\n",
    "data_t2.replace('-',np.nan, inplace=True)"
   ]
  },
  {
   "cell_type": "markdown",
   "metadata": {
    "tags": []
   },
   "source": [
    "The datasets datat1 and datat2 are the answers of the pre-test and post-test, respectively. They contain the following columns:\n",
    "\n",
    "| Column name | Column description | \n",
    "| --- | --- |\n",
    "| Sobrenome | Student's last name |\n",
    "| Nome | Student's first name |\n",
    "| Endereço de email | Student's email adress |\n",
    "| Estado | If the test was completed |\n",
    "| Iniciado em | Date and time of when the student started the test |\n",
    "| Completo | Date and time of when the student finished the test |\n",
    "| Tempo utiliado | Raw text of how long the student took to complet the test |\n",
    "| Avaliar/10,00 | Student's grade in the test |\n",
    "| Resposta 1-31 | Students's selected answer in the question |"
   ]
  },
  {
   "cell_type": "code",
   "execution_count": 5,
   "metadata": {
    "tags": []
   },
   "outputs": [],
   "source": [
    "# final grades from students in each class/professor\n",
    "a1 = pd.read_csv('./2022_1/2022_1_A1_PEDRO_LANA.csv')\n",
    "a2 = pd.read_csv('./2022_1/2022_1_A2_GABRIELA.csv')\n",
    "b1 = pd.read_csv('./2022_1/2022_1_B1_CARLOS_HEITOR.csv')\n",
    "b2 = pd.read_csv('./2022_1/2022_1_B2_VITOR.csv')\n",
    "m1 = pd.read_csv('./2022_1/2022_1_M1_CARLOS_HEITOR.csv')\n",
    "m2 = pd.read_csv('./2022_1/2022_1_M2_LEO_CAMPOS.csv')\n",
    "m3 = pd.read_csv('./2022_1/2022_1_M3_FILIPE.csv')\n",
    "n1 = pd.read_csv('./2022_1/2022_1_N1_UBIRAJARA.csv')\n",
    "n2 = pd.read_csv('./2022_1/2022_1_N2_LEO_CAMPOS.csv')\n",
    "e1 = pd.read_csv('./2022_1/2022_1_E1_LUIZ_GUSTAVO.csv')\n",
    "f1 = pd.read_csv('./2022_1/2022_1_F1_LUIZ_GUSTAVO.csv')\n",
    "\n",
    "grades = pd.concat([a1,a2,b1,b2,m1,m2,m3,n1,n2,e1,f1])"
   ]
  },
  {
   "cell_type": "markdown",
   "metadata": {},
   "source": [
    "The datasets a-f 1-3 contain following columns:\n",
    "\n",
    "| Column name | Column description | \n",
    "| --- | --- |\n",
    "| Aluno | Student's name |\n",
    "| Semestre |Semester |\n",
    "| Turma | Student's class |\n",
    "| Professor | Student's professor |\n",
    "| Metodo | Teaching method used by the professor |\n",
    "| Nota final | Student's final grade |\n",
    "\n",
    "The datasets are merged in the dataset grades, containing these informations about all the students of this semester"
   ]
  },
  {
   "cell_type": "code",
   "execution_count": 6,
   "metadata": {
    "tags": []
   },
   "outputs": [],
   "source": [
    "# deleting columns\n",
    "data_t1.drop( columns = ['Endereço de email', 'Estado', 'Iniciado em', 'Completo', 'Avaliar/10,00'], inplace=True  )\n",
    "data_t2.drop( columns = ['Endereço de email', 'Estado', 'Iniciado em', 'Completo', 'Avaliar/1,00'], inplace=True  )"
   ]
  },
  {
   "cell_type": "code",
   "execution_count": 7,
   "metadata": {
    "tags": []
   },
   "outputs": [],
   "source": [
    "# merging name and last name in a single column and deleting columns of name and last name\n",
    "data_t1.insert( 0, 'student', data_t1[\"Nome\"] + ' ' + data_t1[\"Sobrenome\"] )\n",
    "data_t1.drop( columns = [\"Nome\", \"Sobrenome\"], inplace=True )\n",
    "\n",
    "data_t2.insert( 0, 'student', data_t2[\"Nome\"] + ' ' + data_t2[\"Sobrenome\"] )\n",
    "data_t2.drop( columns = [\"Nome\", \"Sobrenome\"], inplace=True )"
   ]
  },
  {
   "cell_type": "code",
   "execution_count": 8,
   "metadata": {
    "tags": []
   },
   "outputs": [],
   "source": [
    "# renaming columns\n",
    "data_t1.rename(columns = {'Tempo utilizado': 'T1_time'}, inplace = True)\n",
    "data_t2.rename(columns = {'Tempo utilizado': 'T2_time'}, inplace = True)\n",
    "grades.rename(columns = {'Aluno': 'student', 'Semestre':'semester', 'Turma':'class', 'Professor':'professor', \n",
    "                          'Metodo':'method', 'Nota Final':'final_grade'}, inplace = True)"
   ]
  },
  {
   "cell_type": "code",
   "execution_count": 9,
   "metadata": {
    "tags": []
   },
   "outputs": [],
   "source": [
    "# remove diacritics and double or non-standard whitespaces from students' and professors' names, put names in all upper case\n",
    "data_t1['student'] = data_t1['student'].str.normalize('NFKD')\\\n",
    "                            .str.encode('ascii', errors='ignore')\\\n",
    "                            .str.decode('utf-8')\n",
    "data_t1.student = data_t1.student.replace('\\s+', ' ', regex=True)\n",
    "data_t1['student'] = data_t1['student'].str.upper()\n",
    "\n",
    "data_t2['student'] = data_t2['student'].str.normalize('NFKD')\\\n",
    "                            .str.encode('ascii', errors='ignore')\\\n",
    "                            .str.decode('utf-8')\n",
    "data_t2.student = data_t2.student.replace('\\s+', ' ', regex=True)\n",
    "data_t2['student'] = data_t2['student'].str.upper()\n",
    "\n",
    "grades['student'] = grades['student'].str.normalize('NFKD')\\\n",
    "                            .str.encode('ascii', errors='ignore')\\\n",
    "                            .str.decode('utf-8')\n",
    "grades.student = grades.student.replace('\\s+', ' ', regex=True)\n",
    "grades['student'] = grades['student'].str.upper()\n",
    "\n",
    "grades['professor'] = grades['professor'].str.normalize('NFKD')\\\n",
    "                            .str.encode('ascii', errors='ignore')\\\n",
    "                            .str.decode('utf-8')\n",
    "grades.professor = grades.professor.replace('\\s+', ' ', regex=True)\n",
    "grades['professor'] = grades['professor'].str.upper()"
   ]
  },
  {
   "cell_type": "code",
   "execution_count": 10,
   "metadata": {
    "tags": []
   },
   "outputs": [],
   "source": [
    "# transforming time from raw text, e.g. \"32 minutos e 20 segundos\", to a numeric of how many seconds the student took to complete the test\n",
    "T1_minutes = pd.to_numeric( data_t1['T1_time'].str.extract( '([0-9]+) minutos?', expand=False) )\n",
    "T1_seconds = pd.to_numeric( data_t1['T1_time'].str.extract( '([0-9]+) segundos?', expand=False) )\n",
    "\n",
    "\n",
    "# fix NaN in entries of the form 10 seconds (with implicit 0 minutes)\n",
    "T1_minutes[ np.logical_and( \n",
    "    T1_seconds.notnull(),\n",
    "    T1_minutes.isnull()\n",
    ") ] = 0.0\n",
    "\n",
    "# fix NaN in entries of the form 45 minutes (with implicit 0 seconds)\n",
    "T1_seconds[ np.logical_and( \n",
    "    T1_seconds.isnull(),\n",
    "    T1_minutes.notnull()\n",
    ") ] = 0.0\n",
    "\n",
    "data_t1['T1_time'] = 60*T1_minutes + T1_seconds"
   ]
  },
  {
   "cell_type": "code",
   "execution_count": 11,
   "metadata": {
    "tags": []
   },
   "outputs": [],
   "source": [
    "T2_minutes = pd.to_numeric( data_t2['T2_time'].str.extract( '([0-9]+) minutos?', expand=False) )\n",
    "T2_seconds = pd.to_numeric( data_t2['T2_time'].str.extract( '([0-9]+) segundos?', expand=False) )\n",
    "\n",
    "# fix NaN in entries of the form 10 seconds (with implicit 0 minutes)\n",
    "T2_minutes[ np.logical_and( \n",
    "    T2_seconds.notnull(),\n",
    "    T2_minutes.isnull()\n",
    ") ] = 0.0\n",
    "\n",
    "# fix NaN in entries of the form 45 minutes (with implicit 0 seconds)\n",
    "T2_seconds[ np.logical_and( \n",
    "    T2_seconds.isnull(),\n",
    "    T2_minutes.notnull()\n",
    ") ] = 0.0\n",
    "\n",
    "data_t2['T2_time'] = 60*T2_minutes + T2_seconds"
   ]
  },
  {
   "cell_type": "code",
   "execution_count": 12,
   "metadata": {
    "tags": []
   },
   "outputs": [],
   "source": [
    "# replacing plataform-outputed answers for the answer letter\n",
    "data_t1.replace( answer_dict, inplace=True )\n",
    "data_t2.replace( answer_dict, inplace=True )\n",
    "\n",
    "data_t1.rename( columns = { 'Resposta '+str(i): 'T1Q'+str(i) for i in range(1,31+1) }, inplace=True )\n",
    "data_t2.rename( columns = { 'Resposta '+str(i): 'T2Q'+str(i) for i in range(1,31+1) }, inplace=True )"
   ]
  },
  {
   "cell_type": "code",
   "execution_count": 13,
   "metadata": {
    "tags": []
   },
   "outputs": [],
   "source": [
    "# merge dataframes\n",
    "data_tests = pd.merge(data_t1, data_t2, how='outer', on='student')\n",
    "data = pd.merge(data_tests, grades, how='outer', on='student')"
   ]
  },
  {
   "cell_type": "code",
   "execution_count": 14,
   "metadata": {
    "tags": []
   },
   "outputs": [],
   "source": [
    "data.to_csv(\"data_2022_1.csv\", index=False)"
   ]
  },
  {
   "cell_type": "code",
   "execution_count": null,
   "metadata": {},
   "outputs": [],
   "source": []
  }
 ],
 "metadata": {
  "kernelspec": {
   "display_name": "Python 3 (ipykernel)",
   "language": "python",
   "name": "python3"
  },
  "language_info": {
   "codemirror_mode": {
    "name": "ipython",
    "version": 3
   },
   "file_extension": ".py",
   "mimetype": "text/x-python",
   "name": "python",
   "nbconvert_exporter": "python",
   "pygments_lexer": "ipython3",
   "version": "3.11.3"
  }
 },
 "nbformat": 4,
 "nbformat_minor": 4
}
